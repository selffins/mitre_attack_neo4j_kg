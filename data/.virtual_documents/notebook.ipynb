


# !pip3 install pandas
# !pip3 install openpyxl


!ls


!ls ./xlsx


import pandas as pd


with pd.ExcelFile("./xlsx/enterprise-attack-v16.1-tactics.xlsx") as xls:  
    tactics = pd.read_excel(xls)
    print(xls.sheet_names)
    # Only one sheet.


tactics.head()





tactics = tactics.drop(columns=["STIX ID", "url", "domain", "version", "last modified", "created"])





with open("./clean/tactics.csv", mode="w") as f:
    f.write(tactics.to_csv(index='False'))








xls = pd.ExcelFile("./xlsx/enterprise-attack-v16.1-techniques.xlsx")
print(xls.sheet_names)








techniques_techniques = pd.read_excel(xls, sheet_name='techniques')


techniques_techniques.head()


techniques_techniques = techniques_techniques.drop(columns=['STIX ID', 'url', 'created', 'last modified', 'domain', 'version', 'contributors', 'relationship citations'])


techniques_techniques.columns





subtechniques_df = techniques_techniques[techniques_techniques["is sub-technique"] == True] 


techniques_df = techniques_techniques[techniques_techniques["is sub-technique"] != True]


subtechniques_df.count()


techniques_df.count()


techniques_techniques.count()


453 + 203


techniques_df.head()





techniques_df = techniques_df.drop(columns=['supports remote','system requirements', 'impact type', 'effective permissions'])


subtechniques_df = subtechniques_df.drop(columns=['supports remote','system requirements', 'impact type', 'effective permissions'])


techniques_df.head()


techniques_df.drop(columns=['is sub-technique', 'sub-technique of'])











subtechniques_relationship = subtechniques_df[["ID", "sub-technique of"]].rename(
    columns={"ID": "subtechnique_id", "subtechnique_of": "parent_technique_id"}
)

subtechniques_relationship["relationship"] = "sub-technique"


subtechniques_relationship.head()


subtechniques_relationship.count()


subtechniques_df = subtechniques_df.drop(columns=["tactics", "is sub-technique", "sub-technique of", "data sources"])


subtechniques_df.head()





with open("./clean/subtechniques.csv", "w") as f:
    f.write(subtechniques_df.to_csv(index='False'))


with open("./clean/subtechniques_techniques.csv", "w") as f:
    f.write(subtechniques_relationship.to_csv(index='False'))





techniques_df.head()


tactics_relationship = techniques_df.assign(tactics=techniques_df["tactics"].str.split(",")).explode("tactics")

tactics_relationship = tactics_relationship[["ID", "tactics"]].rename(
    columns={"ID": "technique_id", "tactics": "tactic_id"}
)

tactics_relationship["relationship"] = "is tactic of"


tactics_relationship.head()


tactic_name_to_id = tactics.set_index("name")["ID"].to_dict()
tactics_relationship["tactic_id"] = tactics_relationship["tactic_id"].apply(
    lambda name: tactic_name_to_id[name.strip()]
)





tactics_relationship.head()


tactics_relationship.count()


techniques_df.count()





techniques_df = techniques_df.drop(columns=["tactics", "data sources", "is sub-technique", "sub-technique of"])


techniques_df.columns


with open("./clean/tactics_techniques.csv", "w") as f:
    f.write(tactics_relationship.to_csv(index='False'))


with open("./clean/techniques.csv", "w") as f:
    f.write(techniques_df.to_csv(index='False'))





!ls ./xlsx


xls = pd.ExcelFile("./xlsx/enterprise-attack-v16.1-mitigations.xlsx") 
mitigations = pd.read_excel(xls)
print(xls.sheet_names)


mitigations_df = pd.read_excel(xls, sheet_name='mitigations')
mitigations_to_techniques_df = pd.read_excel(xls, sheet_name ='techniques addressed')





mitigations_df.head()


mitigations_df = mitigations_df.drop(columns=['STIX ID', 'url', 'created', 'last modified', 'domain', 'version', 'relationship citations'])


mitigations_df.head()





mitigations_to_techniques_df.head()


mitigations_to_techniques_df = mitigations_to_techniques_df.drop(columns=['source ref', 'source type', 'target ref', 'STIX ID', 'created', 'last modified'])


mitigations_to_techniques_df.head()


print(mitigations_to_techniques_df['mapping type'].unique())


print(mitigations_to_techniques_df['target type'].unique())





mitigations_to_techniques_df = mitigations_to_techniques_df.drop(columns=['source name', 'target name', 'target type', 'mapping type'])


mitigations_to_techniques_df.head()





mitigations_to_subtechniques_df = mitigations_to_techniques_df[mitigations_to_techniques_df["target ID"].str.contains(r"\.", na=False)]
mitigations_to_techniques_df = mitigations_to_techniques_df[~mitigations_to_techniques_df["target ID"].str.contains(r"\.", na=False)]


mitigations_to_subtechniques_df.head()


mitigations_to_techniques_df.head()





with open("./clean/mitigations_techniques.csv", "w") as f:
    f.write(mitigations_to_techniques_df.to_csv(index='False'))


with open("./clean/mitigations_subtechniques.csv", "w") as f:
    f.write(mitigations_to_subtechniques_df.to_csv(index='False'))


with open("./clean/mitigations.csv", "w") as f:
    f.write(mitigations_df.to_csv(index='False'))








!ls ./xlsx


xls = pd.ExcelFile("./xlsx/enterprise-attack-v16.1-campaigns.xlsx") 
campaigns = pd.read_excel(xls)
print(xls.sheet_names)


campaigns_df = pd.read_excel(xls, sheet_name="campaigns")


campaigns_software_df = pd.read_excel(xls, sheet_name="associated software")
campaigns_groups_df = pd.read_excel(xls, sheet_name="attributed groups")
campaigns_techniques_df = pd.read_excel(xls, sheet_name="techniques used")


campaigns_df.head()


cols = ['ID', 'name', 'description', 'associated campaigns', 'first seen', 'last seen']
campaigns_df = campaigns_df.loc[:, cols]


campaigns_df.head()


campaigns_df['associated campaigns'].unique()





campaigns_df = campaigns_df.drop(columns=['associated campaigns'])





campaigns_groups_df.head()


campaigns_groups_df['target type'].unique()


campaigns_groups_df['mapping type'].unique()





cols = ['source ID', 'target ID', 'mapping description']
campaigns_groups_df = campaigns_groups_df.loc[:,cols]


campaigns_groups_df.head()





campaigns_techniques_df.head()


cols = ['source ID', 'target ID', 'mapping description']
campaigns_techniques_df = campaigns_techniques_df.loc[:,cols]


campaigns_subtechniques_df = campaigns_techniques_df[campaigns_techniques_df["target ID"].str.contains(r"\.", na=False)]
campaigns_subtechniques_df.head()


campaigns_techniques_df = campaigns_techniques_df[~campaigns_techniques_df["target ID"].str.contains(r"\.", na=False)]
campaigns_techniques_df.head()


with open("./clean/campaigns_groups.csv", "w") as f:
    f.write(campaigns_groups_df.to_csv(index='False'))


with open("./clean/campaigns_techniques.csv", "w") as f:
    f.write(campaigns_techniques_df.to_csv(index='False'))


with open("./clean/campaigns.csv", "w") as f:
    f.write(campaigns_df.to_csv(index='False'))


with open("./clean/campaigns_subtechniques.csv", "w") as f:
    f.write(campaigns_subtechniques_df.to_csv(index='False'))





campaigns_software_df.head()


cols = ['source ID', 'target ID', 'mapping description']
campaigns_software_df = campaigns_software_df.loc[:,cols]


campaigns_software_df.head()


with open("./clean/campaigns_software.csv", "w") as f:
    f.write(campaigns_software_df.to_csv(index='False'))


## Groups





xls = pd.ExcelFile("./xlsx/enterprise-attack-v16.1-groups.xlsx") 
campaigns = pd.read_excel(xls)
print(xls.sheet_names)


groups_software_df = pd.read_excel(xls, sheet_name="associated software")
groups_campaigns_df = pd.read_excel(xls, sheet_name="attributed campaigns")
groups_techniques_df = pd.read_excel(xls, sheet_name="techniques used")
groups_df = pd.read_excel(xls, sheet_name="groups")











groups_campaigns_df.head()


groups_campaigns_df.count()


campaigns_groups_df.count()





groups_df.head()





cols = ['ID', 'name', 'description', 'created', 'last modified', 'associated groups', 'associated groups citations']


groups_df = groups_df.loc[:,cols]


groups_df.head()








groups_df["associated groups"] = groups_df["associated groups"].fillna("").str.split(", ")
associated_groups_relationship = groups_df.explode("associated groups")
associated_groups_relationship = associated_groups_relationship[
    associated_groups_relationship["associated groups"] != ""
]
associated_groups_relationship = associated_groups_relationship[["ID", "associated groups"]].rename(
    columns={"ID": "group_id", "associated groups": "associated_id"}
)

associated_groups_relationship.head()





group_name_to_group_id = groups_df.set_index("name")["ID"].to_dict()


group_names = set(group_name_to_group_id.keys())
print(len(group_names))
print(list(group_names)[:30])


associated_groups_relationship["associated_id"].isin(group_names)








import re


# Step 1: Handle NaN values and extract citations using regex
groups_df["associated groups citations"] = groups_df["associated groups citations"].fillna("")
groups_df["associated groups citations"] = groups_df["associated groups citations"].apply(
    lambda x: re.findall(r"\(Citation: (.*?)\)", x)
)

groups_df["associated groups citations"]


exploded_df = groups_df.explode("associated groups").explode("associated groups citations")
exploded_df.reset_index(drop=True, inplace=True)
exploded_df.head()


associated_group_df = exploded_df[["associated groups", "associated groups citations"]].rename(
    columns={"associated groups": "associated_id", "associated groups citations": "citation"}
)

associated_group_df.head()


associated_groups_relationship.head()





with open("./clean/groups.csv", "w") as f:
    f.write(groups_df.to_csv(index='False'))
with open("./clean/groups_associated_groups.csv", "w") as f:
    f.write(associated_groups_relationship.to_csv(index='False'))
with open("./clean/associated_groups.csv", "w") as f:
    f.write(associated_group_df.to_csv(index='False'))





groups_techniques_df.head()


groups_software_df.head()


cols = ['source ID', 'target ID', 'mapping description']
groups_techniques_df = groups_techniques_df.loc[:, cols]
groups_software_df = groups_software_df.loc[:, cols]





groups_subtechniques_df = groups_techniques_df[groups_techniques_df["target ID"].str.contains(r"\.", na=False)]
groups_techniques_df = groups_techniques_df[~groups_techniques_df["target ID"].str.contains(r"\.", na=False)]


groups_techniques_df.head()


groups_subtechniques_df.head()


groups_software_df.head()





with open("./clean/groups_software.csv", "w") as f:
    f.write(groups_software_df.to_csv(index='False'))
with open("./clean/groups_techniques.csv", "w") as f:
    f.write(groups_techniques_df.to_csv(index='False'))
with open("./clean/groups_subtechniques.csv", "w") as f:
    f.write(groups_subtechniques_df.to_csv(index='False'))





xls = pd.ExcelFile("./xlsx/enterprise-attack-v16.1-software.xlsx") 
software = pd.read_excel(xls)
print(xls.sheet_names)


software_df = pd.read_excel(xls, sheet_name="software")
software_techniques_df = pd.read_excel(xls, sheet_name="techniques used")








software_df.head()


cols = ['ID', 'name', 'description', 'platforms', 'type']


software_df = software_df.loc[:, cols]





software_techniques_df.head()


cols = ['source ID', 'target ID', 'mapping description']


software_techniques_df = software_techniques_df.loc[:, cols]





software_subtechniques_df = software_techniques_df[software_techniques_df["target ID"].str.contains(r"\.", na=False)]
software_techniques_df = software_techniques_df[~software_techniques_df["target ID"].str.contains(r"\.", na=False)]


software_subtechniques_df.head()


software_techniques_df.head()





with open("./clean/software_subtechniques.csv", "w") as f:
    f.write(software_subtechniques_df.to_csv(index='False'))
with open("./clean/software_techniques.csv", "w") as f:
    f.write(software_techniques_df.to_csv(index='False'))
with open("./clean/software.csv", "w") as f:
    f.write(software_df.to_csv(index='False'))





!ls ./clean





import os
import csv

# Specify the folder containing the CSV files
folder_path = "./clean/"

# Iterate through all files in the folder
for file_name in os.listdir(folder_path):
    # Construct the full file path
    file_path = os.path.join(folder_path, file_name)
|
    if file_name.endswith(".csv"):
        # Open the CSV file and read its content
        with open(file_path, "r") as input_file:
            reader = csv.reader(input_file)
            
            # Remove the first column for each row
            data = [row[1:] for row in reader]

        # Write the updated content back to the file (or save to a new file)
        with open(file_path, "w", newline="") as output_file:
            writer = csv.writer(output_file)
            writer.writerows(data)

        print(f"Processed {file_name}")




